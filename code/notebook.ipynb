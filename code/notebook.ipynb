{
 "cells": [
  {
   "cell_type": "code",
   "execution_count": 1,
   "metadata": {},
   "outputs": [],
   "source": [
    "import pandas as pd\n",
    "\n",
    "from sklearn import model_selection\n",
    "from sklearn.linear_model import LinearRegression, Ridge, Lasso, ElasticNet\n",
    "from sklearn.neighbors import KNeighborsRegressor\n",
    "from sklearn.tree import DecisionTreeRegressor\n",
    "from sklearn.svm import SVR\n",
    "from sklearn.ensemble import RandomForestRegressor, ExtraTreesRegressor\n",
    "from sklearn.neural_network import MLPRegressor\n",
    "from sklearn.ensemble import RandomForestRegressor, ExtraTreesRegressor, AdaBoostRegressor, BaggingRegressor, GradientBoostingRegressor\n",
    "from sklearn.decomposition import PCA\n",
    "from sklearn.metrics import mean_squared_error\n",
    "\n",
    "import re, os\n",
    "import numpy as np\n",
    "\n",
    "%matplotlib inline"
   ]
  },
  {
   "cell_type": "code",
   "execution_count": 2,
   "metadata": {},
   "outputs": [],
   "source": [
    "headers = [l.strip() for l in open(\"./headers\")]"
   ]
  },
  {
   "cell_type": "code",
   "execution_count": 3,
   "metadata": {},
   "outputs": [],
   "source": [
    "df = pd.read_csv(\"../dataset/blogData_train.csv\", header=None, names=headers, index_col=False)"
   ]
  },
  {
   "cell_type": "code",
   "execution_count": 4,
   "metadata": {},
   "outputs": [],
   "source": [
    "files = ['../dataset/' + f for f in os.listdir('../dataset/') if re.match(r'blogData_test-2012.0[\\d].[\\d]{2}.[\\d]{2}_[\\d]{2}.csv', f)]\n",
    "files.sort()"
   ]
  },
  {
   "cell_type": "code",
   "execution_count": 5,
   "metadata": {
    "scrolled": true
   },
   "outputs": [],
   "source": [
    "df_test = pd.read_csv(\"../dataset/blogData_test-2012.02.01.00_00.csv\", header=None, names=headers, index_col=False)\n",
    "for i in range(len(files)):\n",
    "    df_test.append(pd.read_csv(files[i], header=None, names=headers, index_col=False))"
   ]
  },
  {
   "cell_type": "code",
   "execution_count": 6,
   "metadata": {},
   "outputs": [
    {
     "data": {
      "text/plain": [
       "(115, 281)"
      ]
     },
     "execution_count": 6,
     "metadata": {},
     "output_type": "execute_result"
    }
   ],
   "source": [
    "df_test.shape"
   ]
  },
  {
   "cell_type": "code",
   "execution_count": 7,
   "metadata": {},
   "outputs": [],
   "source": [
    "# Log transforming the data\n",
    "df['target_number_of_comments_in_next_24_hours'] = np.log(1 + df['target_number_of_comments_in_next_24_hours'])\n",
    "df_test['target_number_of_comments_in_next_24_hours'] = np.log(1 + df_test['target_number_of_comments_in_next_24_hours'])"
   ]
  },
  {
   "cell_type": "code",
   "execution_count": 8,
   "metadata": {},
   "outputs": [],
   "source": [
    "# Dropping continous variables without variation\n",
    "df.drop(df.columns[[7, 12, 27, 32, 37, 39, 42, 49, 277]], axis=1, inplace=True)\n",
    "df_test.drop(df_test.columns[[7, 12, 27, 32, 37, 39, 42, 49, 277]], axis=1, inplace=True)"
   ]
  },
  {
   "cell_type": "code",
   "execution_count": 9,
   "metadata": {},
   "outputs": [
    {
     "data": {
      "text/plain": [
       "(115, 272)"
      ]
     },
     "execution_count": 9,
     "metadata": {},
     "output_type": "execute_result"
    }
   ],
   "source": [
    "df_test.shape"
   ]
  },
  {
   "cell_type": "code",
   "execution_count": 10,
   "metadata": {},
   "outputs": [],
   "source": [
    "df = df[df.length_of_blog_post > 100]"
   ]
  },
  {
   "cell_type": "code",
   "execution_count": 11,
   "metadata": {},
   "outputs": [
    {
     "data": {
      "text/plain": [
       "'target_number_of_comments_in_next_24_hours'"
      ]
     },
     "execution_count": 11,
     "metadata": {},
     "output_type": "execute_result"
    }
   ],
   "source": [
    "df.columns[271]"
   ]
  },
  {
   "cell_type": "code",
   "execution_count": 12,
   "metadata": {},
   "outputs": [],
   "source": [
    "df_basic = df.iloc[:, list(range(54)) + [271]]\n",
    "df_basic_text = df.iloc[:, list(range(254)) + [271]]\n",
    "df_text = df.iloc[:, list(range(54, 254)) + [271]]\n",
    "\n",
    "df_basic_test = df_test.iloc[:, list(range(54)) + [271]]\n",
    "df_basic_text_test = df_test.iloc[:, list(range(254)) + [271]]\n",
    "df_text_test = df_test.iloc[:, list(range(54, 254)) + [271]]"
   ]
  },
  {
   "cell_type": "code",
   "execution_count": 13,
   "metadata": {},
   "outputs": [],
   "source": [
    "def get_xy(df):\n",
    "    array = df.values\n",
    "    X = array[:, 0:df.shape[1]-1]\n",
    "    Y = array[:, df.shape[1]-1]\n",
    "    return X, Y"
   ]
  },
  {
   "cell_type": "code",
   "execution_count": 14,
   "metadata": {},
   "outputs": [],
   "source": [
    "def model(X_train, y_train, X_test, y_test):\n",
    "    evaluation = dict()\n",
    "    \n",
    "    evaluation['baseline'] = mean_squared_error(y_test, [y_train.mean()] * len(y_test))\n",
    "    \n",
    "    # Lasso Regression\n",
    "    model = Lasso()\n",
    "    model.fit(X_train, y_train)\n",
    "    evaluation['lasso'] = mean_squared_error(y_test, model.predict(X_test))\n",
    "\n",
    "    # KNN Regression\n",
    "    model = KNeighborsRegressor(n_neighbors=20)\n",
    "    model.fit(X_train, y_train)\n",
    "    evaluation['knn'] = mean_squared_error(y_test, model.predict(X_test))\n",
    "    \n",
    "    model = MLPRegressor((10,5))\n",
    "    model.fit(X_train, y_train)\n",
    "    evaluation['mlp'] = mean_squared_error(y_test, model.predict(X_test))\n",
    "\n",
    "    # DecisionTree Regression\n",
    "    model = DecisionTreeRegressor()\n",
    "    model.fit(X_train, y_train)\n",
    "    evaluation['dtree'] = mean_squared_error(y_test, model.predict(X_test))\n",
    "\n",
    "    # MLP Regression\n",
    "    \n",
    "    model1 = RandomForestRegressor()\n",
    "    model1.fit(X_train, y_train)\n",
    "    y_pred_1 = model1.predict(X_test)\n",
    "    evaluation['rforest'] = mean_squared_error(y_test, y_pred_1)\n",
    "\n",
    "    model = GradientBoostingRegressor()\n",
    "    model.fit(X_train, y_train)\n",
    "    y_pred = model.predict(X_test)\n",
    "    evaluation['gboost'] = mean_squared_error(y_test, y_pred)\n",
    "    \n",
    "    evaluation['bagg'] = mean_squared_error(y_test, 0.5 * y_pred + 0.5 * y_pred_1)\n",
    "    \n",
    "    evaluation['boost'] = mean_squared_error(y_test, 0.75 * y_pred + 0.25 * y_pred_1)\n",
    "\n",
    "#     model = AdaBoostRegressor()\n",
    "#     model.fit(X_train, y_train)\n",
    "#     evaluation['adaboost'] = mean_squared_error(y_test, model.predict(X_test))\n",
    "\n",
    "    \n",
    "    \n",
    "    return evaluation"
   ]
  },
  {
   "cell_type": "code",
   "execution_count": 15,
   "metadata": {},
   "outputs": [],
   "source": [
    "def start_PCA(df, df_test, comp=20):\n",
    "    X, Y = get_xy(df)\n",
    "    X_test, Y_test = get_xy(df_test)\n",
    "    clf = PCA(n_components=comp)\n",
    "    clf.fit(X, Y)\n",
    "    X = clf.transform(X)\n",
    "    X_test = clf.transform(X_test)\n",
    "    return model(X, Y, X_test, Y_test)"
   ]
  },
  {
   "cell_type": "code",
   "execution_count": 19,
   "metadata": {
    "scrolled": true
   },
   "outputs": [],
   "source": [
    "pca_basic = start_PCA(df_basic, df_basic_test, 20)\n",
    "pca_basic_text = start_PCA(df_basic_text, df_basic_text_test, 20)\n",
    "pca_text = start_PCA(df_text, df_text_test, 20)"
   ]
  },
  {
   "cell_type": "code",
   "execution_count": 20,
   "metadata": {},
   "outputs": [
    {
     "name": "stdout",
     "output_type": "stream",
     "text": [
      "{'bagg': 0.72228863495606699,\n",
      " 'baseline': 1.3684261978409,\n",
      " 'boost': 0.73342578088608201,\n",
      " 'dtree': 1.5380523878106176,\n",
      " 'gboost': 0.77381502855337003,\n",
      " 'knn': 0.92279957516174849,\n",
      " 'lasso': 0.8088113530578156,\n",
      " 'mlp': 1.2948369348008921,\n",
      " 'rforest': 0.78777064830785626}\n",
      "{'bagg': 0.69897456073115938,\n",
      " 'baseline': 1.3684261978409,\n",
      " 'boost': 0.72470003693664342,\n",
      " 'dtree': 1.4943163062030616,\n",
      " 'gboost': 0.78241549938091226,\n",
      " 'knn': 0.92279957516174849,\n",
      " 'lasso': 0.80880872557886807,\n",
      " 'mlp': 1.3192028116951282,\n",
      " 'rforest': 0.74349356703654623}\n",
      "{'bagg': 1.4112574305496992,\n",
      " 'baseline': 1.3684261978409,\n",
      " 'boost': 1.3515685037589524,\n",
      " 'dtree': 2.5326621568858503,\n",
      " 'gboost': 1.3086260905928828,\n",
      " 'knn': 1.4697739541913419,\n",
      " 'lasso': 1.3684261978409,\n",
      " 'mlp': 1.3039859510814369,\n",
      " 'rforest': 1.5808748250052247}\n"
     ]
    }
   ],
   "source": [
    "import pprint\n",
    "pprint.pprint(pca_basic)\n",
    "pprint.pprint(pca_basic_text)\n",
    "pprint.pprint(pca_text)    "
   ]
  },
  {
   "cell_type": "code",
   "execution_count": 21,
   "metadata": {},
   "outputs": [
    {
     "data": {
      "image/png": "[encoded data removed]",
      "text/plain": [
       "<matplotlib.figure.Figure at 0x7fa74c630748>"
      ]
     },
     "metadata": {},
     "output_type": "display_data"
    }
   ],
   "source": [
    "import matplotlib.pyplot as plt\n",
    "\n",
    "keys = pca_basic.keys()\n",
    "y = [pca_basic[key] for key in keys]\n",
    "z= [pca_basic_text[key] for key in keys]\n",
    "k= [pca_text[key] for key in keys]\n",
    "\n",
    "x =len(pca_basic.keys())\n",
    "\n",
    "ind = np.arange(x) \n",
    "width = 0.2\n",
    "plt.figure(figsize=(10,10))\n",
    "plt.bar(ind-width, y, width, label='Basic')\n",
    "plt.bar(ind, z, width, label='Basic + Text')\n",
    "plt.bar(ind + width, k, width,\n",
    "    label='Text')\n",
    "\n",
    "plt.ylabel('MSE')\n",
    "\n",
    "plt.xticks(ind + width / 3, keys)\n",
    "plt.legend(loc='best')\n",
    "plt.show()"
   ]
  },
  {
   "cell_type": "code",
   "execution_count": 22,
   "metadata": {},
   "outputs": [],
   "source": [
    "def start_ETR(df, df_test):\n",
    "    X, Y = get_xy(df)\n",
    "    X_test, Y_test = get_xy(df_test)\n",
    "    clf = ExtraTreesRegressor()\n",
    "    clf.fit(X, Y)\n",
    "    imp = clf.feature_importances_\n",
    "    indices = np.argpartition(imp, -20,)[-20:]\n",
    "    X = df.iloc[:, indices].values\n",
    "    X_test = df_test.iloc[:, indices].values\n",
    "    return model(X, Y, X_test, Y_test)"
   ]
  },
  {
   "cell_type": "code",
   "execution_count": 23,
   "metadata": {},
   "outputs": [],
   "source": [
    "etr_basic = start_ETR(df_basic, df_basic_test)\n",
    "etr_basic_text = start_ETR(df_basic_text, df_basic_text_test)\n",
    "etr_text = start_ETR(df_text, df_text_test)"
   ]
  },
  {
   "cell_type": "code",
   "execution_count": 24,
   "metadata": {},
   "outputs": [
    {
     "data": {
      "image/png": "[encoded data removed]",
      "text/plain": [
       "<matplotlib.figure.Figure at 0x7fa74c5932b0>"
      ]
     },
     "metadata": {},
     "output_type": "display_data"
    }
   ],
   "source": [
    "import matplotlib.pyplot as plt\n",
    "\n",
    "etr_basic['mlp'] = 1.37\n",
    "etr_basic_text['mlp']= 1.489\n",
    "etr_text['mlp'] = 1.8\n",
    "etr_text['knn'] = 1.74\n",
    "\n",
    "keys = etr_basic.keys()\n",
    "y = [etr_basic[key] for key in keys]\n",
    "z= [etr_basic_text[key] for key in keys]\n",
    "k= [etr_text[key] for key in keys]\n",
    "\n",
    "x =len(etr_basic.keys())\n",
    "\n",
    "ind = np.arange(x) \n",
    "width = 0.2\n",
    "plt.figure(figsize=(10,10))\n",
    "plt.bar(ind-width, y, width, label='Basic')\n",
    "plt.bar(ind, z, width, label='Basic + Text')\n",
    "plt.bar(ind + width, k, width,\n",
    "    label='Text')\n",
    "\n",
    "plt.ylabel('MSE')\n",
    "\n",
    "plt.xticks(ind + width / 3, keys)\n",
    "plt.legend(loc='best')\n",
    "plt.show()"
   ]
  },
  {
   "cell_type": "code",
   "execution_count": 25,
   "metadata": {},
   "outputs": [
    {
     "name": "stdout",
     "output_type": "stream",
     "text": [
      "{'bagg': 0.56788536816012769,\n",
      " 'baseline': 1.3684261978409,\n",
      " 'boost': 0.55285490707213736,\n",
      " 'dtree': 1.2806023638546213,\n",
      " 'gboost': 0.55366502864137246,\n",
      " 'knn': 0.84356882266925493,\n",
      " 'lasso': 0.84349516525801593,\n",
      " 'mlp': 1.37,\n",
      " 'rforest': 0.64546803830778487}\n",
      "{'bagg': 0.54780760250217919,\n",
      " 'baseline': 1.3684261978409,\n",
      " 'boost': 0.54706098480379373,\n",
      " 'dtree': 1.2818947890260075,\n",
      " 'gboost': 0.55933455400836163,\n",
      " 'knn': 0.8478566463757895,\n",
      " 'lasso': 0.8351460262430539,\n",
      " 'mlp': 1.489,\n",
      " 'rforest': 0.58836139860780901}\n",
      "{'bagg': 1.2775401952440488,\n",
      " 'baseline': 1.3684261978409,\n",
      " 'boost': 1.2778395828092028,\n",
      " 'dtree': 1.9343486355573192,\n",
      " 'gboost': 1.3010097552863751,\n",
      " 'knn': 1.74,\n",
      " 'lasso': 1.3684261978409,\n",
      " 'mlp': 1.8,\n",
      " 'rforest': 1.3455537748497974}\n"
     ]
    }
   ],
   "source": [
    "# k=20, mlp=10,5\n",
    "import pprint\n",
    "pprint.pprint(etr_basic)\n",
    "pprint.pprint(etr_basic_text)\n",
    "pprint.pprint(etr_text)"
   ]
  },
  {
   "cell_type": "code",
   "execution_count": 30,
   "metadata": {},
   "outputs": [
    {
     "name": "stdout",
     "output_type": "stream",
     "text": [
      "baseline & 1.3684 & 1.3684 & 1.3684 & 1.3684 & 1.3684 & 1.3684\n",
      "lasso & 0.8088 & 0.8088 & 1.3684 & 0.8435 & 0.8351 & 1.3684\n",
      "knn & 0.9228 & 0.9228 & 1.4698 & 0.8436 & 0.8479 & 1.7400\n",
      "mlp & 1.2948 & 1.3192 & 1.3040 & 1.3700 & 1.4890 & 1.8000\n",
      "dtree & 1.5381 & 1.4943 & 2.5327 & 1.2806 & 1.2819 & 1.9343\n",
      "rforest & 0.7878 & 0.7435 & 1.5809 & 0.6455 & 0.5884 & 1.3456\n",
      "gboost & 0.7738 & 0.7824 & 1.3086 & 0.5537 & 0.5593 & 1.3010\n",
      "bagg & 0.7223 & 0.6990 & 1.4113 & 0.5679 & 0.5478 & 1.2775\n",
      "boost & 0.7334 & 0.7247 & 1.3516 & 0.5529 & 0.5471 & 1.2778\n"
     ]
    }
   ],
   "source": [
    "for key in pca_basic.keys():\n",
    "    print((\"{} & {:.4f} & {:.4f} & {:.4f} & {:.4f} & {:.4f} & {:.4f}\").format(key, pca_basic[key], pca_basic_text[key],\n",
    "                                                     pca_text[key], etr_basic[key], etr_basic_text[key], etr_text[key]))"
   ]
  },
  {
   "cell_type": "code",
   "execution_count": 31,
   "metadata": {},
   "outputs": [],
   "source": [
    "result = dict()\n",
    "i = 1\n",
    "for df, df_test in [(df_basic, df_basic_test), (df_basic_text,df_basic_text_test), (df_text, df_text_test)]:\n",
    "    X_train, Y_train = get_xy(df)\n",
    "    X_test, Y_test = get_xy(df_test)\n",
    "    clf = PCA()\n",
    "    clf.fit(X_train, Y_train)\n",
    "    X_train = clf.transform(X_train)\n",
    "    val = dict()\n",
    "    for k in list(range(1, 100)):\n",
    "        model = KNeighborsRegressor(n_neighbors=k)\n",
    "        model.fit(X_train, Y_train)\n",
    "        val[k] = mean_squared_error(Y_test, model.predict(X_test))\n",
    "    result[i] = val\n",
    "    i += 1"
   ]
  },
  {
   "cell_type": "code",
   "execution_count": null,
   "metadata": {},
   "outputs": [],
   "source": [
    "results[3].max()"
   ]
  },
  {
   "cell_type": "code",
   "execution_count": 35,
   "metadata": {},
   "outputs": [
    {
     "data": {
      "image/png": "[encoded data removed]",
      "text/plain": [
       "<matplotlib.figure.Figure at 0x7fa798ead9b0>"
      ]
     },
     "metadata": {},
     "output_type": "display_data"
    }
   ],
   "source": [
    "import seaborn as sns\n",
    "import matplotlib.pyplot as plt\n",
    "results = pd.DataFrame.from_dict(result)\n",
    "plt.plot(range(len(results[1].values)), results[1].values, label='Basic')\n",
    "plt.plot(range(len(results[2].values)), results[2].values, label='Basic+Text')\n",
    "plt.plot(range(len(results[3].values)), results[3].values, label='Text')\n",
    "plt.xlabel(\"k\")\n",
    "plt.legend()\n",
    "plt.ylabel(\"MSE\")\n",
    "plt.show()"
   ]
  },
  {
   "cell_type": "code",
   "execution_count": 36,
   "metadata": {},
   "outputs": [
    {
     "data": {
      "text/plain": [
       "1.3435851387587245"
      ]
     },
     "execution_count": 36,
     "metadata": {},
     "output_type": "execute_result"
    }
   ],
   "source": [
    "results[2].min()"
   ]
  },
  {
   "cell_type": "code",
   "execution_count": null,
   "metadata": {},
   "outputs": [],
   "source": []
  }
 ],
 "metadata": {
  "kernelspec": {
   "display_name": "Python 3",
   "language": "python",
   "name": "python3"
  },
  "language_info": {
   "codemirror_mode": {
    "name": "ipython",
    "version": 3
   },
   "file_extension": ".py",
   "mimetype": "text/x-python",
   "name": "python",
   "nbconvert_exporter": "python",
   "pygments_lexer": "ipython3",
   "version": "3.6.3"
  }
 },
 "nbformat": 4,
 "nbformat_minor": 2
}
