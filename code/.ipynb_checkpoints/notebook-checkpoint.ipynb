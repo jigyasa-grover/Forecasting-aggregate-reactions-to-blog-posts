{
 "cells": [
  {
   "cell_type": "code",
   "execution_count": 89,
   "metadata": {},
   "outputs": [],
   "source": [
    "import pandas as pd\n",
    "\n",
    "from sklearn import model_selection\n",
    "from sklearn.linear_model import LinearRegression, Ridge, Lasso, ElasticNet\n",
    "from sklearn.neighbors import KNeighborsRegressor\n",
    "from sklearn.tree import DecisionTreeRegressor\n",
    "from sklearn.svm import SVR\n",
    "from sklearn.ensemble import RandomForestRegressor, ExtraTreesRegressor\n",
    "from sklearn.neural_network import MLPRegressor\n",
    "from sklearn.ensemble import RandomForestRegressor, ExtraTreesRegressor, AdaBoostRegressor, BaggingRegressor, GradientBoostingRegressor\n",
    "from sklearn.decomposition import PCA\n",
    "from sklearn.metrics import mean_squared_error\n",
    "\n",
    "import re, os\n",
    "import numpy as np\n",
    "\n",
    "%matplotlib inline"
   ]
  },
  {
   "cell_type": "code",
   "execution_count": 64,
   "metadata": {},
   "outputs": [],
   "source": [
    "headers = [l.strip() for l in open(\"./headers\")]"
   ]
  },
  {
   "cell_type": "code",
   "execution_count": 65,
   "metadata": {},
   "outputs": [],
   "source": [
    "df = pd.read_csv(\"../dataset/blogData_train.csv\", header=None, names=headers, index_col=False)"
   ]
  },
  {
   "cell_type": "code",
   "execution_count": 66,
   "metadata": {},
   "outputs": [],
   "source": [
    "files = ['../dataset/' + f for f in os.listdir('../dataset/') if re.match(r'blogData_test-2012.0[\\d].[\\d]{2}.[\\d]{2}_[\\d]{2}.csv', f)]\n",
    "files.sort()"
   ]
  },
  {
   "cell_type": "code",
   "execution_count": 67,
   "metadata": {
    "scrolled": true
   },
   "outputs": [],
   "source": [
    "df_test = pd.read_csv(\"../dataset/blogData_test-2012.02.01.00_00.csv\", header=None, names=headers, index_col=False)\n",
    "for i in range(len(files)):\n",
    "    df_test.append(pd.read_csv(files[i], header=None, names=headers, index_col=False))"
   ]
  },
  {
   "cell_type": "code",
   "execution_count": 68,
   "metadata": {},
   "outputs": [
    {
     "data": {
      "text/plain": [
       "(115, 281)"
      ]
     },
     "execution_count": 68,
     "metadata": {},
     "output_type": "execute_result"
    }
   ],
   "source": [
    "df_test.shape"
   ]
  },
  {
   "cell_type": "code",
   "execution_count": 69,
   "metadata": {},
   "outputs": [],
   "source": [
    "# Log transforming the data\n",
    "df['target_number_of_comments_in_next_24_hours'] = np.log(1 + df['target_number_of_comments_in_next_24_hours'])\n",
    "df_test['target_number_of_comments_in_next_24_hours'] = np.log(1 + df_test['target_number_of_comments_in_next_24_hours'])"
   ]
  },
  {
   "cell_type": "code",
   "execution_count": 70,
   "metadata": {},
   "outputs": [],
   "source": [
    "# Dropping continous variables without variation\n",
    "df.drop(df.columns[[7, 12, 27, 32, 37, 39, 42, 49, 277]], axis=1, inplace=True)\n",
    "df_test.drop(df_test.columns[[7, 12, 27, 32, 37, 39, 42, 49, 277]], axis=1, inplace=True)"
   ]
  },
  {
   "cell_type": "code",
   "execution_count": 71,
   "metadata": {},
   "outputs": [
    {
     "data": {
      "text/plain": [
       "(115, 272)"
      ]
     },
     "execution_count": 71,
     "metadata": {},
     "output_type": "execute_result"
    }
   ],
   "source": [
    "df_test.shape"
   ]
  },
  {
   "cell_type": "code",
   "execution_count": 72,
   "metadata": {},
   "outputs": [],
   "source": [
    "df = df[df.length_of_blog_post > 100]"
   ]
  },
  {
   "cell_type": "code",
   "execution_count": 73,
   "metadata": {},
   "outputs": [
    {
     "data": {
      "text/plain": [
       "'target_number_of_comments_in_next_24_hours'"
      ]
     },
     "execution_count": 73,
     "metadata": {},
     "output_type": "execute_result"
    }
   ],
   "source": [
    "df.columns[271]"
   ]
  },
  {
   "cell_type": "code",
   "execution_count": 74,
   "metadata": {},
   "outputs": [],
   "source": [
    "df_basic = df.iloc[:, list(range(54)) + [271]]\n",
    "df_basic_text = df.iloc[:, list(range(254)) + [271]]\n",
    "df_text = df.iloc[:, list(range(54, 254)) + [271]]\n",
    "\n",
    "df_basic_test = df_test.iloc[:, list(range(54)) + [271]]\n",
    "df_basic_text_test = df_test.iloc[:, list(range(254)) + [271]]\n",
    "df_text_test = df_test.iloc[:, list(range(54, 254)) + [271]]"
   ]
  },
  {
   "cell_type": "code",
   "execution_count": 75,
   "metadata": {},
   "outputs": [],
   "source": [
    "def get_xy(df):\n",
    "    array = df.values\n",
    "    X = array[:, 0:df.shape[1]-1]\n",
    "    Y = array[:, df.shape[1]-1]\n",
    "    return X, Y"
   ]
  },
  {
   "cell_type": "code",
   "execution_count": 81,
   "metadata": {},
   "outputs": [],
   "source": [
    "def model(X_train, y_train, X_test, y_test):\n",
    "    evaluation = dict()\n",
    "    \n",
    "    # Lasso Regression\n",
    "    model = Lasso()\n",
    "    model.fit(X_train, y_train)\n",
    "    evaluation['lasso'] = mean_squared_error(y_test, model.predict(X_test))\n",
    "\n",
    "    # KNN Regression\n",
    "    model = KNeighborsRegressor(n_neighbors=20)\n",
    "    model.fit(X_train, y_train)\n",
    "    evaluation['knn'] = mean_squared_error(y_test, model.predict(X_test))\n",
    "\n",
    "    # DecisionTree Regression\n",
    "    model = DecisionTreeRegressor()\n",
    "    model.fit(X_train, y_train)\n",
    "    evaluation['decisiontree'] = mean_squared_error(y_test, model.predict(X_test))\n",
    "\n",
    "    # MLP Regression\n",
    "    model = MLPRegressor((10,5))\n",
    "    model.fit(X_train, y_train)\n",
    "    evaluation['mlp'] = mean_squared_error(y_test, model.predict(X_test))\n",
    "\n",
    "    model = GradientBoostingRegressor()\n",
    "    model.fit(X_train, y_train)\n",
    "    evaluation['gradientboost'] = mean_squared_error(y_test, model.predict(X_test))\n",
    "\n",
    "    model = AdaBoostRegressor()\n",
    "    model.fit(X_train, y_train)\n",
    "    evaluation['adaboost'] = mean_squared_error(y_test, model.predict(X_test))\n",
    "\n",
    "    model = RandomForestRegressor()\n",
    "    model.fit(X_train, y_train)\n",
    "    evaluation['randomforest'] = mean_squared_error(y_test, model.predict(X_test))\n",
    "    \n",
    "    return evaluation"
   ]
  },
  {
   "cell_type": "code",
   "execution_count": 82,
   "metadata": {},
   "outputs": [],
   "source": [
    "def start_PCA(df, df_test):\n",
    "    X, Y = get_xy(df)\n",
    "    X_test, Y_test = get_xy(df_test)\n",
    "    clf = PCA()\n",
    "    clf.fit(X, Y)\n",
    "    X = clf.transform(X)\n",
    "    return model(X, Y, X_test, Y_test)"
   ]
  },
  {
   "cell_type": "code",
   "execution_count": 83,
   "metadata": {
    "scrolled": true
   },
   "outputs": [],
   "source": [
    "pca_basic = start_PCA(df_basic, df_basic_test)\n",
    "pca_basic_text = start_PCA(df_basic_text, df_basic_text_test)\n",
    "depca_text = start_PCA(df_text, df_text_test)"
   ]
  },
  {
   "cell_type": "code",
   "execution_count": 84,
   "metadata": {},
   "outputs": [
    {
     "name": "stdout",
     "output_type": "stream",
     "text": [
      "{'adaboost': 1.5708240825951405,\n",
      " 'decisiontree': 2.0987864163477998,\n",
      " 'gradientboost': 1.2754202420662395,\n",
      " 'knn': 1.5955293486707232,\n",
      " 'lasso': 3.9434245930146248,\n",
      " 'mlp': 31143.319414807611,\n",
      " 'randomforest': 2.1120386010625718}\n",
      "{'adaboost': 1.721472243777987,\n",
      " 'decisiontree': 2.0736391856670262,\n",
      " 'gradientboost': 1.6516265401139194,\n",
      " 'knn': 1.5678213052071752,\n",
      " 'lasso': 3.9438184532203904,\n",
      " 'mlp': 1155.8300042816586,\n",
      " 'randomforest': 1.8994189241687485}\n",
      "{'adaboost': 2.1046613698182877,\n",
      " 'decisiontree': 1.7751273083793573,\n",
      " 'gradientboost': 1.421652281774396,\n",
      " 'knn': 1.5215787370966898,\n",
      " 'lasso': 1.3684261978409,\n",
      " 'mlp': 6.7797486949505821,\n",
      " 'randomforest': 1.8014600150305993}\n"
     ]
    }
   ],
   "source": [
    "# k=20, mlp=10,5\n",
    "import pprint\n",
    "pprint.pprint(pca_basic)\n",
    "pprint.pprint(pca_basic_text)\n",
    "pprint.pprint(depca_text)"
   ]
  },
  {
   "cell_type": "code",
   "execution_count": 80,
   "metadata": {},
   "outputs": [
    {
     "name": "stdout",
     "output_type": "stream",
     "text": [
      "{'adaboost': 2.0030261994724827,\n",
      " 'decisiontree': 1.7283700907101014,\n",
      " 'gradientboost': 1.2871338600279383,\n",
      " 'knn': 1.3752686754667336,\n",
      " 'lasso': 3.9434245930146248,\n",
      " 'mlp': 5122.7618622429109,\n",
      " 'randomforest': 2.3120504271013673}\n",
      "{'adaboost': 2.0033566380508181,\n",
      " 'decisiontree': 2.1609816269863273,\n",
      " 'gradientboost': 1.6510993732463219,\n",
      " 'knn': 1.3435851387587245,\n",
      " 'lasso': 3.9438184532203904,\n",
      " 'mlp': 112141.70480255672,\n",
      " 'randomforest': 1.9107547360295525}\n",
      "{'adaboost': 1.6309333910302546,\n",
      " 'decisiontree': 1.7435427571442987,\n",
      " 'gradientboost': 1.4284092802646351,\n",
      " 'knn': 1.6915720827863405,\n",
      " 'lasso': 1.3684261978409,\n",
      " 'mlp': 3.1122176288534913,\n",
      " 'randomforest': 1.2950954432680815}\n"
     ]
    }
   ],
   "source": [
    "# k=default, mlp=default\n",
    "import pprint\n",
    "pprint.pprint(pca_basic)\n",
    "pprint.pprint(pca_basic_text)\n",
    "pprint.pprint(depca_text)"
   ]
  },
  {
   "cell_type": "code",
   "execution_count": 90,
   "metadata": {},
   "outputs": [],
   "source": [
    "def start_ETR(df, df_test):\n",
    "    X, Y = get_xy(df)\n",
    "    X_test, Y_test = get_xy(df_test)\n",
    "    clf = ExtraTreesRegressor()\n",
    "    clf.fit(X, Y)\n",
    "    imp = clf.feature_importances_\n",
    "    indices = np.argpartition(imp, -50,)[-50:]\n",
    "    X = df.iloc[:, indices].values\n",
    "    X_test = df_test.iloc[:, indices].values\n",
    "    return model(X, Y, X_test, Y_test)"
   ]
  },
  {
   "cell_type": "code",
   "execution_count": 91,
   "metadata": {},
   "outputs": [],
   "source": [
    "pca_basic = start_ETR(df_basic, df_basic_test)\n",
    "pca_basic_text = start_ETR(df_basic_text, df_basic_text_test)\n",
    "pca_text = start_ETR(df_text, df_text_test)"
   ]
  },
  {
   "cell_type": "code",
   "execution_count": 92,
   "metadata": {},
   "outputs": [
    {
     "name": "stdout",
     "output_type": "stream",
     "text": [
      "{'adaboost': 0.99371365549913837,\n",
      " 'decisiontree': 0.94898491747767444,\n",
      " 'gradientboost': 0.54938275218622235,\n",
      " 'knn': 0.92279957516174849,\n",
      " 'lasso': 0.83003833042441766,\n",
      " 'mlp': 1.9372442380901138,\n",
      " 'randomforest': 0.62111531742480852}\n",
      "{'adaboost': 0.91642240944838593,\n",
      " 'decisiontree': 1.2826186965680857,\n",
      " 'gradientboost': 0.55381366093422713,\n",
      " 'knn': 0.87132605374843164,\n",
      " 'lasso': 0.84613534136233415,\n",
      " 'mlp': 2.2555289808320316,\n",
      " 'randomforest': 0.64383441728303603}\n",
      "{'adaboost': 2.1046613698182877,\n",
      " 'decisiontree': 1.7751273083793573,\n",
      " 'gradientboost': 1.421652281774396,\n",
      " 'knn': 1.5215787370966898,\n",
      " 'lasso': 1.3684261978409,\n",
      " 'mlp': 6.7797486949505821,\n",
      " 'randomforest': 1.8014600150305993}\n"
     ]
    }
   ],
   "source": [
    "# k=20, mlp=10,5\n",
    "import pprint\n",
    "pprint.pprint(pca_basic)\n",
    "pprint.pprint(pca_basic_text)\n",
    "pprint.pprint(depca_text)"
   ]
  },
  {
   "cell_type": "code",
   "execution_count": 43,
   "metadata": {},
   "outputs": [],
   "source": [
    "result = dict()\n",
    "i = 1\n",
    "for df, df_test in [(df_basic, df_basic_test), (df_basic_text,df_basic_text_test), (df_text, df_text_test)]:\n",
    "    X_train, Y_train = get_xy(df)\n",
    "    X_test, Y_test = get_xy(df_test)\n",
    "    clf = PCA()\n",
    "    clf.fit(X_train, Y_train)\n",
    "    X_train = clf.transform(X_train)\n",
    "    val = dict()\n",
    "    for k in list(range(1, 100)):\n",
    "        model = KNeighborsRegressor(n_neighbors=k)\n",
    "        model.fit(X_train, Y_train)\n",
    "        val[k] = mean_squared_error(Y_test, model.predict(X_test))\n",
    "    result[i] = val\n",
    "    i += 1"
   ]
  },
  {
   "cell_type": "code",
   "execution_count": 50,
   "metadata": {},
   "outputs": [
    {
     "data": {
      "text/plain": [
       "1.8006844897479835"
      ]
     },
     "execution_count": 50,
     "metadata": {},
     "output_type": "execute_result"
    }
   ],
   "source": [
    "results[3].max()"
   ]
  },
  {
   "cell_type": "code",
   "execution_count": 60,
   "metadata": {},
   "outputs": [
    {
     "data": {
      "image/png": "[encoded data removed]",
      "text/plain": [
       "<matplotlib.figure.Figure at 0x7fc0442af6d8>"
      ]
     },
     "metadata": {},
     "output_type": "display_data"
    }
   ],
   "source": [
    "import seaborn as sns\n",
    "import matplotlib.pyplot as plt\n",
    "results = pd.DataFrame.from_dict(result)\n",
    "plt.plot(range(len(results[1].values)), results[1].values);\n",
    "plt.plot(range(len(results[2].values)), results[2].values);\n",
    "plt.plot(range(len(results[3].values)), results[3].values);\n",
    "plt.xlabel(\"k\")\n",
    "plt.ylabel(\"MSE\")plt.plot(range(len(results[1].values)), results[1].values);plt.plot(range(len(results[1].values)), results[1].values);\n",
    "plt.show()"
   ]
  },
  {
   "cell_type": "code",
   "execution_count": 56,
   "metadata": {},
   "outputs": [
    {
     "data": {
      "text/plain": [
       "array([ 1.77633673,  1.78678849,  1.80068449,  1.78660582,  1.69157208,\n",
       "        1.70185394,  1.65967627,  1.67481291,  1.65201675,  1.61092038,\n",
       "        1.60626025,  1.60655163,  1.58265595,  1.56258908,  1.53374685,\n",
       "        1.54707391,  1.52235617,  1.539329  ,  1.52203822,  1.52157874,\n",
       "        1.52164628,  1.50347405,  1.50690486,  1.49563601,  1.48600696,\n",
       "        1.4855163 ,  1.49058649,  1.48394516,  1.49060461,  1.50060147,\n",
       "        1.49086335,  1.49976059,  1.49736451,  1.50863559,  1.50928047,\n",
       "        1.50006429,  1.48397752,  1.48200361,  1.46213548,  1.46725103,\n",
       "        1.46867143,  1.47019628,  1.4739105 ,  1.47861314,  1.47315695,\n",
       "        1.47899482,  1.47675689,  1.47230669,  1.47574741,  1.48428891,\n",
       "        1.47553354,  1.48676691,  1.47634984,  1.47222144,  1.47374996,\n",
       "        1.47359715,  1.47379896,  1.469691  ,  1.46973325,  1.46741708,\n",
       "        1.4593179 ,  1.45156958,  1.45238694,  1.45661555,  1.45907171,\n",
       "        1.46442075,  1.46021389,  1.45731276,  1.45347438,  1.45366367,\n",
       "        1.45529666,  1.45415576,  1.45527856,  1.4504823 ,  1.45156987,\n",
       "        1.45293955,  1.45314129,  1.45617427,  1.45819324,  1.45617845,\n",
       "        1.46103735,  1.46445317,  1.45803701,  1.45457087,  1.45402017,\n",
       "        1.44975278,  1.45058222,  1.4512008 ,  1.45402693,  1.45029371,\n",
       "        1.44865008,  1.44795474,  1.4479769 ,  1.44897963,  1.45255082,\n",
       "        1.4501357 ,  1.45000645,  1.44298078,  1.44920023])"
      ]
     },
     "execution_count": 56,
     "metadata": {},
     "output_type": "execute_result"
    }
   ],
   "source": [
    "results[3].values"
   ]
  },
  {
   "cell_type": "code",
   "execution_count": null,
   "metadata": {},
   "outputs": [],
   "source": []
  }
 ],
 "metadata": {
  "kernelspec": {
   "display_name": "Python 3",
   "language": "python",
   "name": "python3"
  },
  "language_info": {
   "codemirror_mode": {
    "name": "ipython",
    "version": 3
   },
   "file_extension": ".py",
   "mimetype": "text/x-python",
   "name": "python",
   "nbconvert_exporter": "python",
   "pygments_lexer": "ipython3",
   "version": "3.6.3"
  }
 },
 "nbformat": 4,
 "nbformat_minor": 2
}
